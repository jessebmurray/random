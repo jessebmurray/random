{
 "cells": [
  {
   "cell_type": "code",
   "execution_count": null,
   "metadata": {},
   "outputs": [],
   "source": [
    "def outcome_list_red_roulette_martingale(n_trials, max_loss, max_win, narrate=False):\n",
    "    p_red = 18 / 38\n",
    "    other_game_nums = list()\n",
    "    net_gain_outcome_list = list()\n",
    "    game_num = 1\n",
    "    for n in range(n_trials):\n",
    "        net_gain = 0\n",
    "        current_bet = 1  # initialize bet to 1 dollar\n",
    "        if narrate == True:\n",
    "            print('GAME', game_num)\n",
    "        game_num += 1\n",
    "        other_game_num = 0\n",
    "        while net_gain >= max_loss and net_gain <= max_win:\n",
    "            other_game_num += 1\n",
    "            if narrate == True:\n",
    "                print('net gain', net_gain, ', bet', current_bet, end=', ')\n",
    "            roulette_outcome = random.randrange(1, 39)\n",
    "            # if the roulette comes up red\n",
    "            if roulette_outcome <= 18:\n",
    "                if narrate == True:\n",
    "                    print('win, go up', current_bet * 2)\n",
    "                net_gain += current_bet\n",
    "                current_bet = 1\n",
    "            # if the roulette comes up not red\n",
    "            else:\n",
    "                if narrate == True:\n",
    "                    print('lose, go down', current_bet)\n",
    "                net_gain -= current_bet\n",
    "                current_bet *= 2\n",
    "        other_game_nums.append(other_game_num)\n",
    "        net_gain_outcome_list.append(net_gain)\n",
    "        if narrate == True:\n",
    "            print('net gain', net_gain, '\\n')\n",
    "    return net_gain_outcome_list, other_game_nums\n",
    "\n",
    "\n",
    "def standardize_roulette_game(roulette_outcome_list, loss_amount, win_amount):\n",
    "    standardized_outcome_list = list()\n",
    "    for outcome in roulette_outcome_list:\n",
    "        if outcome >= win_amount:\n",
    "            standardized_outcome_list.append(1)\n",
    "        elif outcome <= loss_amount:\n",
    "            standardized_outcome_list.append(0)\n",
    "    return standardized_outcome_list\n"
   ]
  }
 ],
 "metadata": {
  "kernelspec": {
   "display_name": "Python 3",
   "language": "python",
   "name": "python3"
  },
  "language_info": {
   "codemirror_mode": {
    "name": "ipython",
    "version": 3
   },
   "file_extension": ".py",
   "mimetype": "text/x-python",
   "name": "python",
   "nbconvert_exporter": "python",
   "pygments_lexer": "ipython3",
   "version": "3.7.4"
  }
 },
 "nbformat": 4,
 "nbformat_minor": 2
}
