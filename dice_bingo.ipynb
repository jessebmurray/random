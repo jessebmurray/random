{
 "cells": [
  {
   "cell_type": "markdown",
   "metadata": {},
   "source": [
    "## Dice bingo! *fast*"
   ]
  },
  {
   "cell_type": "markdown",
   "metadata": {},
   "source": [
    "#### Prompt:\n",
    "Consider the following “simplified dice bingo” game. Two players each write ten numbers on a piece of paper. The numbers must be between 2 and 12 and can be repeated. For instance, you can write “3,4,5,6,7,7,9,9,10,10,10.” Now, two dice are rolled again and again, and after each roll, the sum is noted. When the sum matches one of your numbers, you cross that number off your list. (If you have that number on your list more than once, you cross it off only once.) If the sum is a number you didn’t write down or that you have already crossed off, you do nothing. Whoever crosses out all of their numbers first wins. What is the optimal strategy?\n",
    "\n",
    "There is a one-player version of this game, where your score (lower is best) is the number of dice rolls it took for you to cross off all the numbers on your list. Use a simulation to figure out the expected score (averaging many plays of the game) of the one-player game, given a specific list of numbers. "
   ]
  },
  {
   "cell_type": "markdown",
   "metadata": {},
   "source": [
    "Numpy arrays are an example of vectorized code. That is, transformations are made in parallel to the entire array, rather than running a (slow) for loop down the entire array. This results in much faster code. "
   ]
  },
  {
   "cell_type": "code",
   "execution_count": 1,
   "metadata": {},
   "outputs": [],
   "source": [
    "import itertools as it\n",
    "import numpy as np\n",
    "import matplotlib.pyplot as plt"
   ]
  },
  {
   "cell_type": "code",
   "execution_count": 3,
   "metadata": {},
   "outputs": [
    {
     "name": "stdout",
     "output_type": "stream",
     "text": [
      "[2, 3, 4, 5, 6, 7, 8, 9, 10, 11, 12]\n"
     ]
    }
   ],
   "source": [
    "# Get all possible numbers\n",
    "nums = list(range(2, 12+1))\n",
    "print(nums)"
   ]
  },
  {
   "cell_type": "code",
   "execution_count": 4,
   "metadata": {},
   "outputs": [
    {
     "name": "stdout",
     "output_type": "stream",
     "text": [
      "[(2, 2, 2, 2, 2, 2, 2, 2, 2, 2), (2, 2, 2, 2, 2, 2, 2, 2, 2, 3), (2, 2, 2, 2, 2, 2, 2, 2, 2, 4), (2, 2, 2, 2, 2, 2, 2, 2, 2, 5), (2, 2, 2, 2, 2, 2, 2, 2, 2, 6)]\n",
      "184756\n"
     ]
    }
   ],
   "source": [
    "# Get all possible combinations of those numbers\n",
    "combinations = [c for c in it.combinations_with_replacement(nums, r=10)]\n",
    "print(combinations[:5])  # the head\n",
    "print(len(combinations))  # the length"
   ]
  },
  {
   "cell_type": "code",
   "execution_count": 19,
   "metadata": {},
   "outputs": [
    {
     "name": "stdout",
     "output_type": "stream",
     "text": [
      "[ 8 12  7 12  6]\n",
      "10000\n"
     ]
    }
   ],
   "source": [
    "# Make a simulation of rolling two dice `len_sim` number of times\n",
    "len_sim = 10_000\n",
    "simulation = np.random.choice(range(1, 6 + 1), size=len_sim) + \\\n",
    "             np.random.choice(range(1, 6 + 1), size=len_sim)\n",
    "\n",
    "print(simulation[:5])  # the head\n",
    "print(len(simulation))  # the length"
   ]
  },
  {
   "cell_type": "code",
   "execution_count": 20,
   "metadata": {},
   "outputs": [],
   "source": [
    "# Get the (index) locations in the simulation of each num in `nums`\n",
    "locations = [np.where(simulation == num)[0] for num in nums]"
   ]
  },
  {
   "cell_type": "code",
   "execution_count": 21,
   "metadata": {},
   "outputs": [],
   "source": [
    "# `locations` is an array parallel to `nums`\n",
    "assert len(locations) == len(nums)"
   ]
  },
  {
   "cell_type": "code",
   "execution_count": 22,
   "metadata": {},
   "outputs": [
    {
     "data": {
      "image/png": "[encoded data removed]",
      "text/plain": [
       "<Figure size 432x288 with 1 Axes>"
      ]
     },
     "metadata": {
      "needs_background": "light"
     },
     "output_type": "display_data"
    }
   ],
   "source": [
    "plt.scatter(nums, [len(locs) for locs in locations])\n",
    "plt.xticks(nums)\n",
    "plt.title('Number of appearances in the simulation of each possible two-dice roll')\n",
    "plt.show()"
   ]
  },
  {
   "cell_type": "code",
   "execution_count": 23,
   "metadata": {},
   "outputs": [],
   "source": [
    "# Get the score for each combination\n",
    "scores = list()\n",
    "for combination in combinations:\n",
    "    combo_nums = np.unique(combination, return_counts=True)[0]\n",
    "    combo_counts = np.unique(combination, return_counts=True)[1]\n",
    "    enumeration = [(combo_nums[i], combo_counts[i]) for i in range(len(combo_nums))]\n",
    "    score = max([locations[num - 2][count - 1] for num, count in enumeration])\n",
    "    scores.append(score)"
   ]
  },
  {
   "cell_type": "code",
   "execution_count": 24,
   "metadata": {},
   "outputs": [],
   "source": [
    "# `scores` is an array parallel to `combinations`\n",
    "assert len(scores) == len(combinations)"
   ]
  },
  {
   "cell_type": "markdown",
   "metadata": {},
   "source": [
    "We may get lucky in that the simulation has a bunch of twos or something in the beginning, this may not happen all the time. "
   ]
  },
  {
   "cell_type": "code",
   "execution_count": 25,
   "metadata": {},
   "outputs": [
    {
     "name": "stdout",
     "output_type": "stream",
     "text": [
      "9 (2, 3, 4, 6, 7, 7, 8, 8, 12, 12)\n",
      "10 (2, 4, 6, 7, 7, 8, 8, 10, 12, 12)\n",
      "10 (2, 3, 4, 7, 7, 8, 8, 10, 12, 12)\n",
      "10 (3, 4, 6, 7, 7, 8, 8, 10, 12, 12)\n",
      "10 (2, 3, 4, 6, 7, 7, 8, 8, 10, 12)\n"
     ]
    }
   ],
   "source": [
    "for i in np.argsort(scores)[:5]:\n",
    "    print(scores[i], combinations[i])"
   ]
  },
  {
   "cell_type": "code",
   "execution_count": 27,
   "metadata": {},
   "outputs": [
    {
     "data": {
      "text/plain": [
       "array([ 8, 12,  7, 12,  6,  8,  7,  4,  3,  2, 10,  6,  6, 10,  5])"
      ]
     },
     "execution_count": 27,
     "metadata": {},
     "output_type": "execute_result"
    }
   ],
   "source": [
    "simulation[:15]"
   ]
  },
  {
   "cell_type": "markdown",
   "metadata": {},
   "source": [
    "To get a sense of what combination will perform in a new series of dice rolls, we need to run the simulation many times and see what combination does best on average."
   ]
  },
  {
   "cell_type": "markdown",
   "metadata": {},
   "source": [
    "Also note that we need not go up to 10,000 dice rolls in our simulation. The maximum score is usually less than 400 dice rolls. To be safe, lets go up to 2,000 dice rolls for each simulation."
   ]
  },
  {
   "cell_type": "code",
   "execution_count": 28,
   "metadata": {},
   "outputs": [
    {
     "name": "stdout",
     "output_type": "stream",
     "text": [
      "326\n",
      "(12, 12, 12, 12, 12, 12, 12, 12, 12, 12)\n"
     ]
    }
   ],
   "source": [
    "print(scores[np.argsort(scores)[-1]])\n",
    "print(combinations[np.argsort(scores)[-1]])"
   ]
  },
  {
   "cell_type": "markdown",
   "metadata": {},
   "source": [
    "## Run many times"
   ]
  },
  {
   "cell_type": "code",
   "execution_count": 56,
   "metadata": {},
   "outputs": [],
   "source": [
    "num_simulations = 100\n",
    "len_sim = 2000\n",
    "N = len(combinations)\n",
    "scores = np.zeros(N)"
   ]
  },
  {
   "cell_type": "code",
   "execution_count": 58,
   "metadata": {},
   "outputs": [],
   "source": [
    "for simulation_num in range(num_simulations):\n",
    "    print(simulation_num)\n",
    "    # make simulation\n",
    "    simulation = np.random.choice(range(1, 6 + 1), size=len_sim) + \\\n",
    "                 np.random.choice(range(1, 6 + 1), size=len_sim)\n",
    "    \n",
    "    # get the locations for each number\n",
    "    locations = [np.where(simulation == num)[0] for num in nums]\n",
    "\n",
    "    for i in range(N):\n",
    "        combo_nums = np.unique(combinations[i], return_counts=True)[0]\n",
    "        combo_counts = np.unique(combinations[i], return_counts=True)[1]\n",
    "        enumeration = [(combo_nums[j], combo_counts[j]) for j in range(len(combo_nums))]\n",
    "        scores[i] += max([locations[num - 2][count - 1] for num, count in enumeration])\n",
    "    # end"
   ]
  },
  {
   "cell_type": "code",
   "execution_count": 60,
   "metadata": {},
   "outputs": [],
   "source": [
    "scores = np.array(scores) / num_simulations"
   ]
  },
  {
   "cell_type": "markdown",
   "metadata": {},
   "source": [
    "## Analysis"
   ]
  },
  {
   "cell_type": "code",
   "execution_count": 76,
   "metadata": {},
   "outputs": [
    {
     "data": {
      "text/plain": [
       "56.46"
      ]
     },
     "execution_count": 76,
     "metadata": {},
     "output_type": "execute_result"
    }
   ],
   "source": [
    "# all 7s was clearly not the best\n",
    "scores[combinations.index(tuple([7] * 10))]"
   ]
  },
  {
   "cell_type": "code",
   "execution_count": 133,
   "metadata": {},
   "outputs": [
    {
     "name": "stdout",
     "output_type": "stream",
     "text": [
      "26.63 (5, 6, 6, 7, 7, 7, 8, 8, 9, 9)\n",
      "26.69 (5, 6, 6, 7, 7, 7, 8, 8, 9, 10)\n",
      "26.98 (4, 5, 6, 6, 7, 7, 7, 8, 8, 9)\n",
      "27.09 (5, 6, 6, 7, 7, 7, 7, 8, 8, 9)\n",
      "27.14 (5, 6, 7, 7, 7, 8, 8, 9, 9, 10)\n",
      "27.55 (5, 6, 7, 7, 7, 7, 8, 8, 9, 9)\n",
      "27.56 (5, 6, 6, 7, 7, 8, 8, 9, 9, 10)\n",
      "27.56 (5, 6, 6, 7, 7, 7, 8, 8, 8, 9)\n",
      "27.63 (4, 5, 6, 7, 7, 7, 8, 8, 9, 9)\n",
      "27.66 (5, 6, 7, 7, 7, 7, 8, 8, 9, 10)\n",
      "27.73 (4, 5, 6, 7, 7, 7, 8, 8, 9, 10)\n",
      "27.75 (5, 5, 6, 6, 7, 7, 7, 8, 8, 9)\n",
      "27.76 (5, 6, 7, 7, 7, 8, 8, 8, 9, 9)\n",
      "27.78 (6, 6, 7, 7, 7, 8, 8, 9, 9, 10)\n",
      "27.79 (4, 5, 6, 6, 7, 7, 8, 8, 9, 9)\n",
      "27.87 (5, 5, 6, 7, 7, 7, 8, 8, 9, 9)\n",
      "27.88 (5, 6, 6, 6, 7, 7, 7, 8, 8, 9)\n",
      "27.88 (5, 6, 6, 7, 7, 7, 8, 8, 9, 11)\n",
      "28.03 (4, 5, 6, 6, 7, 7, 8, 8, 9, 10)\n",
      "28.04 (5, 6, 6, 7, 7, 7, 8, 9, 9, 10)\n"
     ]
    }
   ],
   "source": [
    "for i in np.argsort(scores)[:20]:\n",
    "    print(scores[i], combinations[i])"
   ]
  },
  {
   "cell_type": "code",
   "execution_count": 130,
   "metadata": {
    "scrolled": true
   },
   "outputs": [],
   "source": [
    "best_combos = np.zeros(len(nums))\n",
    "for i in np.argsort(scores)[:10000]:\n",
    "    for j in range(len(nums)):\n",
    "        best_combos[j] += combinations[i].count(nums[j]) / scores[i]"
   ]
  },
  {
   "cell_type": "code",
   "execution_count": 131,
   "metadata": {},
   "outputs": [
    {
     "data": {
      "text/plain": [
       "[<matplotlib.lines.Line2D at 0x11e7c6b10>]"
      ]
     },
     "execution_count": 131,
     "metadata": {},
     "output_type": "execute_result"
    },
    {
     "data": {
      "image/png": "[encoded data removed]",
      "text/plain": [
       "<Figure size 432x288 with 1 Axes>"
      ]
     },
     "metadata": {
      "needs_background": "light"
     },
     "output_type": "display_data"
    }
   ],
   "source": [
    "plt.plot(best_combos)"
   ]
  },
  {
   "cell_type": "code",
   "execution_count": 110,
   "metadata": {},
   "outputs": [
    {
     "data": {
      "text/plain": [
       "[<matplotlib.lines.Line2D at 0x11ecc3650>]"
      ]
     },
     "execution_count": 110,
     "metadata": {},
     "output_type": "execute_result"
    },
    {
     "data": {
      "image/png": "[encoded data removed]",
      "text/plain": [
       "<Figure size 432x288 with 1 Axes>"
      ]
     },
     "metadata": {
      "needs_background": "light"
     },
     "output_type": "display_data"
    }
   ],
   "source": [
    "plt.plot(scores)"
   ]
  },
  {
   "cell_type": "code",
   "execution_count": null,
   "metadata": {},
   "outputs": [],
   "source": []
  },
  {
   "cell_type": "markdown",
   "metadata": {},
   "source": [
    "## Be more selective (don't try everything)"
   ]
  },
  {
   "cell_type": "code",
   "execution_count": 10,
   "metadata": {},
   "outputs": [],
   "source": [
    "nums_short = list(range(7 - 3, 7 + 3 + 1))"
   ]
  },
  {
   "cell_type": "code",
   "execution_count": 11,
   "metadata": {},
   "outputs": [],
   "source": [
    "def make_combinations(nums):\n",
    "    combinations_final = list()\n",
    "    combinations_simple = [c for c in it.combinations_with_replacement(nums, r=10)]\n",
    "    for i in range(len(combinations_simple)):\n",
    "        add = True\n",
    "        for num in nums:\n",
    "            max_app = 7 - abs(num - 7) - 3\n",
    "            if combinations_simple[i].count(num) > max_app:\n",
    "                add = False\n",
    "        if add:\n",
    "            combinations_final.append(combinations_simple[i])\n",
    "    return combinations_final"
   ]
  },
  {
   "cell_type": "code",
   "execution_count": null,
   "metadata": {},
   "outputs": [],
   "source": []
  },
  {
   "cell_type": "code",
   "execution_count": null,
   "metadata": {},
   "outputs": [],
   "source": []
  },
  {
   "cell_type": "code",
   "execution_count": 12,
   "metadata": {},
   "outputs": [],
   "source": [
    "import time"
   ]
  },
  {
   "cell_type": "code",
   "execution_count": 29,
   "metadata": {},
   "outputs": [],
   "source": [
    "def full_simul(nums, combinations, num_simulations, len_sim):\n",
    "\n",
    "    n = len(combinations)\n",
    "    scores = np.zeros(n)\n",
    "    min_num = min(nums)\n",
    "    \n",
    "    for simulation_num in range(num_simulations):\n",
    "        if simulation_num % 500 == 0:\n",
    "            print(simulation_num)\n",
    "        \n",
    "        # make simulation\n",
    "        simulation = np.random.choice(range(1, 6 + 1), size=len_sim) + \\\n",
    "                     np.random.choice(range(1, 6 + 1), size=len_sim)\n",
    "\n",
    "        # get the locations for each number\n",
    "        locations = [np.where(simulation == num)[0] for num in nums]\n",
    "\n",
    "        for i in range(n):\n",
    "            combo_nums = np.unique(combinations[i], return_counts=True)[0]\n",
    "            combo_counts = np.unique(combinations[i], return_counts=True)[1]\n",
    "            enumeration = [(combo_nums[j], combo_counts[j]) for j in range(len(combo_nums))]\n",
    "            scores[i] += max([locations[num - min_num][count - 1] for num, count in enumeration])\n",
    "            \n",
    "        # end simulations\n",
    "    scores = np.array(scores) / num_simulations\n",
    "    return scores"
   ]
  },
  {
   "cell_type": "code",
   "execution_count": 49,
   "metadata": {},
   "outputs": [],
   "source": [
    "combinations_short = make_combinations(nums_short)"
   ]
  },
  {
   "cell_type": "code",
   "execution_count": 50,
   "metadata": {},
   "outputs": [],
   "source": [
    "start = time.time()"
   ]
  },
  {
   "cell_type": "code",
   "execution_count": 56,
   "metadata": {},
   "outputs": [],
   "source": [
    "scores_short = full_simul(nums=nums_short, combinations=combinations_short, \n",
    "                          num_simulations=1_000_000, len_sim=220)"
   ]
  },
  {
   "cell_type": "code",
   "execution_count": 52,
   "metadata": {},
   "outputs": [],
   "source": [
    "stop = time.time()"
   ]
  },
  {
   "cell_type": "code",
   "execution_count": 53,
   "metadata": {},
   "outputs": [
    {
     "data": {
      "text/plain": [
       "15209.50091600418"
      ]
     },
     "execution_count": 53,
     "metadata": {},
     "output_type": "execute_result"
    }
   ],
   "source": [
    "stop - start"
   ]
  },
  {
   "cell_type": "code",
   "execution_count": 54,
   "metadata": {},
   "outputs": [
    {
     "data": {
      "text/plain": [
       "0.015209500916004181"
      ]
     },
     "execution_count": 54,
     "metadata": {},
     "output_type": "execute_result"
    }
   ],
   "source": [
    "(stop - start) / 1_000_000"
   ]
  },
  {
   "cell_type": "code",
   "execution_count": null,
   "metadata": {},
   "outputs": [],
   "source": [
    "def analyze(scores, combinations, top_num):\n",
    "    for i in np.argsort(scores)[:top_num]:\n",
    "        print(scores[i], combinations[i])"
   ]
  },
  {
   "cell_type": "code",
   "execution_count": 55,
   "metadata": {},
   "outputs": [
    {
     "name": "stdout",
     "output_type": "stream",
     "text": [
      "27.26463 (5, 6, 6, 7, 7, 7, 8, 8, 9, 10)\n",
      "27.267865 (4, 5, 6, 6, 7, 7, 7, 8, 8, 9)\n",
      "27.27131 (4, 5, 6, 6, 7, 7, 8, 8, 9, 10)\n",
      "27.690616 (4, 5, 6, 7, 7, 7, 8, 8, 9, 10)\n",
      "27.690996 (4, 5, 6, 6, 7, 7, 7, 8, 9, 10)\n",
      "28.032092 (5, 6, 6, 7, 7, 7, 8, 8, 9, 9)\n",
      "28.036647 (5, 5, 6, 6, 7, 7, 7, 8, 8, 9)\n",
      "28.054497 (5, 6, 6, 7, 7, 8, 8, 9, 9, 10)\n",
      "28.058775 (4, 5, 6, 6, 7, 7, 8, 8, 9, 9)\n",
      "28.059664 (5, 5, 6, 6, 7, 7, 8, 8, 9, 10)\n",
      "28.064127 (4, 5, 5, 6, 6, 7, 7, 8, 8, 9)\n",
      "28.229915 (4, 6, 6, 7, 7, 7, 8, 8, 9, 10)\n",
      "28.235362 (4, 5, 6, 6, 7, 7, 7, 8, 8, 10)\n",
      "28.412417 (5, 6, 6, 7, 7, 7, 8, 8, 8, 9)\n",
      "28.426937 (5, 6, 6, 6, 7, 7, 7, 8, 8, 9)\n",
      "28.446202 (5, 6, 6, 7, 7, 8, 8, 8, 9, 10)\n",
      "28.447086 (5, 6, 7, 7, 7, 8, 8, 9, 9, 10)\n",
      "28.447122 (4, 5, 6, 6, 7, 7, 8, 8, 8, 9)\n",
      "28.447277 (5, 6, 6, 7, 7, 7, 8, 9, 9, 10)\n",
      "28.450551 (4, 5, 6, 7, 7, 7, 8, 8, 9, 9)\n",
      "28.450785 (4, 5, 6, 6, 7, 7, 7, 8, 9, 9)\n",
      "28.45431 (5, 5, 6, 7, 7, 7, 8, 8, 9, 10)\n",
      "28.456879 (5, 5, 6, 6, 7, 7, 7, 8, 9, 10)\n",
      "28.458004 (4, 5, 5, 6, 7, 7, 7, 8, 8, 9)\n",
      "28.459384 (4, 5, 5, 6, 6, 7, 7, 7, 8, 9)\n",
      "28.460715 (5, 6, 6, 6, 7, 7, 8, 8, 9, 10)\n",
      "28.462591 (4, 5, 6, 6, 6, 7, 7, 8, 8, 9)\n",
      "28.470399 (4, 5, 6, 6, 7, 7, 8, 9, 9, 10)\n",
      "28.471547 (4, 5, 6, 7, 7, 8, 8, 9, 9, 10)\n",
      "28.480056 (4, 5, 5, 6, 6, 7, 7, 8, 9, 10)\n"
     ]
    }
   ],
   "source": [
    "analyze(scores_short, combinations_short, 30)"
   ]
  },
  {
   "cell_type": "code",
   "execution_count": null,
   "metadata": {},
   "outputs": [],
   "source": []
  },
  {
   "cell_type": "code",
   "execution_count": null,
   "metadata": {},
   "outputs": [],
   "source": []
  },
  {
   "cell_type": "code",
   "execution_count": null,
   "metadata": {},
   "outputs": [],
   "source": []
  },
  {
   "cell_type": "code",
   "execution_count": null,
   "metadata": {},
   "outputs": [],
   "source": []
  },
  {
   "cell_type": "code",
   "execution_count": null,
   "metadata": {},
   "outputs": [],
   "source": []
  },
  {
   "cell_type": "code",
   "execution_count": null,
   "metadata": {},
   "outputs": [],
   "source": []
  },
  {
   "cell_type": "code",
   "execution_count": null,
   "metadata": {},
   "outputs": [],
   "source": []
  },
  {
   "cell_type": "code",
   "execution_count": null,
   "metadata": {},
   "outputs": [],
   "source": []
  },
  {
   "cell_type": "code",
   "execution_count": null,
   "metadata": {},
   "outputs": [],
   "source": []
  },
  {
   "cell_type": "code",
   "execution_count": null,
   "metadata": {},
   "outputs": [],
   "source": []
  },
  {
   "cell_type": "code",
   "execution_count": null,
   "metadata": {},
   "outputs": [],
   "source": []
  },
  {
   "cell_type": "code",
   "execution_count": null,
   "metadata": {},
   "outputs": [],
   "source": []
  },
  {
   "cell_type": "code",
   "execution_count": null,
   "metadata": {},
   "outputs": [],
   "source": []
  },
  {
   "cell_type": "code",
   "execution_count": null,
   "metadata": {},
   "outputs": [],
   "source": []
  },
  {
   "cell_type": "code",
   "execution_count": 48,
   "metadata": {},
   "outputs": [
    {
     "data": {
      "text/plain": [
       "6.006104720963372"
      ]
     },
     "execution_count": 48,
     "metadata": {},
     "output_type": "execute_result"
    }
   ],
   "source": [
    "sim_time = 0.02162197699546814\n",
    "\n",
    "sims = 1_000_000\n",
    "\n",
    "(sims * sim_time) / 60 / 60"
   ]
  },
  {
   "cell_type": "code",
   "execution_count": null,
   "metadata": {},
   "outputs": [],
   "source": []
  }
 ],
 "metadata": {
  "kernelspec": {
   "display_name": "Python 3",
   "language": "python",
   "name": "python3"
  },
  "language_info": {
   "codemirror_mode": {
    "name": "ipython",
    "version": 3
   },
   "file_extension": ".py",
   "mimetype": "text/x-python",
   "name": "python",
   "nbconvert_exporter": "python",
   "pygments_lexer": "ipython3",
   "version": "3.7.4"
  }
 },
 "nbformat": 4,
 "nbformat_minor": 2
}
