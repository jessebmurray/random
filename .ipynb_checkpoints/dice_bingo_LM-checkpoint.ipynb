{
 "cells": [
  {
   "cell_type": "code",
   "execution_count": 1,
   "metadata": {
    "colab": {},
    "colab_type": "code",
    "id": "hJdfTp3mWzgr"
   },
   "outputs": [],
   "source": [
    "import numpy as np\n",
    "import random\n",
    "from numba import jit, prange"
   ]
  },
  {
   "cell_type": "code",
   "execution_count": 2,
   "metadata": {
    "colab": {},
    "colab_type": "code",
    "id": "PH6XdCmXYPZA"
   },
   "outputs": [],
   "source": [
    "# simulation codee\n",
    "@jit(nopython=True, parallel=True, fastmath=True)\n",
    "def simulate(sim_array, sims):\n",
    "    for sim in prange(sims):\n",
    "        sim_array[sim] = np.random.randint(1, 7) + np.random.randint(1, 7)"
   ]
  },
  {
   "cell_type": "code",
   "execution_count": 3,
   "metadata": {
    "colab": {},
    "colab_type": "code",
    "id": "7w___ACRxw1B"
   },
   "outputs": [],
   "source": [
    "# configuration for the sim\n",
    "num_rolls = 10\n",
    "num_sims = 1000 * 1000 \n",
    "# create array to store the sim\n",
    "sim_array = np.zeros((num_sims, num_rolls), np.int8).reshape((num_rolls * num_sims,))\n",
    "# do the simulation\n",
    "simulate(sim_array, num_sims * num_rolls)\n",
    "sim_array = sim_array.reshape((num_sims, num_rolls))\n",
    "# # sort simulation by columns then by rows (makes it easy to parse)\n",
    "sim_array.sort(axis=1)\n",
    "sim_array.sort(axis=0)\n",
    "# get unique sets of rols and their counts\n",
    "unique, counts = np.unique(sim_array, axis=0, return_counts=True)\n",
    "# sort the unique and counts desceending\n",
    "sorted_unique_idxs = np.argsort(counts)[::-1]\n",
    "sorted_unique = unique[sorted_unique_idxs, :]\n",
    "sorted_counts = counts[sorted_unique_idxs]\n",
    "# concatenate for viewing\n",
    "results = np.concatenate((sorted_unique, sorted_counts.reshape(-1, 1)), axis=1)"
   ]
  },
  {
   "cell_type": "code",
   "execution_count": 5,
   "metadata": {
    "colab": {
     "base_uri": "https://localhost:8080/",
     "height": 187
    },
    "colab_type": "code",
    "id": "_YcjPwsz34Dg",
    "outputId": "7014c1ce-d6bd-4054-8f1c-d012e72f5301"
   },
   "outputs": [
    {
     "name": "stdout",
     "output_type": "stream",
     "text": [
      "[3, 4, 5, 6, 6, 7, 8, 8, 9, 10, 67859]\n",
      "[4, 5, 6, 6, 7, 8, 8, 9, 10, 11, 67315]\n",
      "[4, 5, 6, 7, 7, 8, 8, 9, 10, 11, 49584]\n",
      "[3, 4, 5, 6, 6, 7, 7, 8, 9, 10, 49150]\n",
      "[4, 5, 6, 7, 7, 8, 9, 9, 10, 11, 46933]\n",
      "[3, 4, 5, 5, 6, 7, 7, 8, 9, 10, 46332]\n",
      "[2, 3, 4, 5, 5, 6, 7, 7, 8, 9, 45342]\n",
      "[5, 6, 7, 7, 8, 9, 9, 10, 11, 12, 45075]\n",
      "[3, 5, 5, 6, 7, 7, 8, 9, 10, 11, 40985]\n",
      "[3, 4, 5, 6, 7, 7, 8, 9, 9, 11, 39986]\n"
     ]
    }
   ],
   "source": [
    "for i in range(10):\n",
    "    print(list(results[i]))"
   ]
  },
  {
   "cell_type": "code",
   "execution_count": 7,
   "metadata": {
    "colab": {
     "base_uri": "https://localhost:8080/",
     "height": 164
    },
    "colab_type": "code",
    "id": "AJZW4uJU4QLu",
    "outputId": "5255e27e-1cfb-4ae2-906b-40de6ad27b10"
   },
   "outputs": [
    {
     "name": "stdout",
     "output_type": "stream",
     "text": [
      "[[    3     4     5     6     6     7     8     8     9    10 67859]\n",
      " [    4     5     6     6     7     8     8     9    10    11 67315]\n",
      " [    4     5     6     7     7     8     8     9    10    11 49584]\n",
      " [    3     4     5     6     6     7     7     8     9    10 49150]\n",
      " [    4     5     6     7     7     8     9     9    10    11 46933]\n",
      " [    3     4     5     5     6     7     7     8     9    10 46332]\n",
      " [    2     3     4     5     5     6     7     7     8     9 45342]\n",
      " [    5     6     7     7     8     9     9    10    11    12 45075]\n",
      " [    3     5     5     6     7     7     8     9    10    11 40985]\n",
      " [    3     4     5     6     7     7     8     9     9    11 39986]\n",
      " [    3     4     5     6     7     7     8     9    10    11 30649]\n",
      " [    5     6     7     7     8     8     9    10    11    12 27420]\n",
      " [    2     3     4     5     6     6     7     7     8     9 26733]\n",
      " [    4     6     6     7     8     8     9    10    11    12 25654]\n",
      " [    2     3     4     5     6     6     7     8     8    10 25071]\n",
      " [    3     4     5     6     7     7     8     8     9    11 24918]\n",
      " [    3     5     6     6     7     7     8     9    10    11 24765]\n",
      " [    2     4     4     5     6     7     7     8     9    10 24322]\n",
      " [    4     5     6     7     7     8     9    10    10    12 24310]\n",
      " [    5     6     7     8     8     9    10    10    11    12 23799]\n",
      " [    2     3     4     4     5     6     6     7     8     9 23712]\n",
      " [    2     4     5     5     6     7     7     8     9    10 21305]\n",
      " [    4     5     6     7     7     8     9     9    10    12 21071]\n",
      " [    2     3     4     5     6     6     7     8     8     9 19942]\n",
      " [    5     6     6     7     8     8     9    10    11    12 19895]\n",
      " [    2     2     3     4     5     5     6     7     7     8 13625]\n",
      " [    6     7     7     8     9     9    10    11    12    12 13456]\n",
      " [    3     4     5     6     7     7     8     8     9    10 10241]\n",
      " [    4     5     6     6     7     7     8     9    10    11  9808]\n",
      " [    2     2     3     4     4     5     6     6     7     8  8717]\n",
      " [    6     7     8     8     9    10    10    11    12    12  8709]\n",
      " [    4     5     6     7     8     8     9    10    11    12  8507]\n",
      " [    2     3     4     5     6     6     7     8     9    10  8342]\n",
      " [    2     3     3     4     5     6     6     7     8     9  5794]\n",
      " [    5     6     7     8     8     9    10    11    11    12  5578]\n",
      " [    2     3     4     5     6     7     7     8     9    10  5160]\n",
      " [    6     7     7     8     8     9    10    11    11    12  4400]\n",
      " [    2     3     3     4     5     6     6     7     7     8  4210]\n",
      " [    4     5     6     7     7     8     9    10    11    12  4138]\n",
      " [    2     3     3     4     5     5     6     7     7     8  3222]\n",
      " [    6     7     7     8     9     9    10    11    11    12  2922]\n",
      " [    7     7     8     9     9    10    11    11    12    12  2251]\n",
      " [    2     2     3     3     4     5     5     6     7     7  2124]\n",
      " [    2     2     3     3     4     5     5     6     7     8  2120]\n",
      " [    6     7     8     9     9    10    11    11    12    12  1988]\n",
      " [    6     6     7     8     8     9    10    11    11    12  1645]\n",
      " [    2     3     3     4     5     6     6     7     8     8  1454]\n",
      " [    2     3     4     4     5     6     7     7     8     9  1354]\n",
      " [    2     2     2     3     4     4     5     6     6     7  1335]\n",
      " [    5     6     7     7     8     9    10    10    11    12  1280]\n",
      " [    7     8     8     9    10    10    11    12    12    12  1225]\n",
      " [    6     7     8     8     9     9    10    11    12    12   953]\n",
      " [    2     2     3     4     5     5     6     6     7     8   734]\n",
      " [    2     2     2     3     3     4     5     5     6     7   488]\n",
      " [    7     8     9     9    10    11    11    12    12    12   435]\n",
      " [    7     8     8     9    10    10    11    11    12    12   245]\n",
      " [    7     8     9     9    10    10    11    12    12    12   238]\n",
      " [    2     2     3     3     4     4     5     6     7     7   155]\n",
      " [    2     2     2     3     4     4     5     5     6     7   137]\n",
      " [    7     8     9    10    10    11    11    12    12    12   127]\n",
      " [    2     2     3     3     4     4     5     6     6     7   126]\n",
      " [    2     2     3     4     4     5     5     6     7     8   114]\n",
      " [    6     7     8     9     9    10    10    11    12    12    95]\n",
      " [    2     2     2     3     3     4     4     5     6     7    86]\n",
      " [    8     8     9    10    10    11    11    12    12    12    55]\n",
      " [    2     2     2     3     3     4     4     5     6     6    53]\n",
      " [    8     9     9    10    11    11    12    12    12    12    44]\n",
      " [    2     2     2     2     3     3     4     5     5     6    42]\n",
      " [    2     2     2     2     3     4     4     5     6     6    41]\n",
      " [    8     9     9    10    10    11    12    12    12    12    25]\n",
      " [    2     2     2     2     3     4     4     5     5     6    19]\n",
      " [    8     9    10    10    11    11    12    12    12    12    19]\n",
      " [    7     8     8     9     9    10    11    11    12    12    13]\n",
      " [    2     2     2     2     3     3     4     4     5     6    12]\n",
      " [    2     2     2     2     2     3     4     4     5     6     3]\n",
      " [    8     8     9    10    10    11    12    12    12    12     3]\n",
      " [    2     2     2     2     2     3     4     4     5     5     2]\n",
      " [    2     2     2     2     2     3     3     4     5     5     2]\n",
      " [    8    10    10    10    11    12    12    12    12    12     1]\n",
      " [    9    10    10    11    11    12    12    12    12    12     1]]\n"
     ]
    }
   ],
   "source": [
    "print(results)"
   ]
  },
  {
   "cell_type": "code",
   "execution_count": 0,
   "metadata": {
    "colab": {},
    "colab_type": "code",
    "id": "TcauoMJJ6Gs7"
   },
   "outputs": [],
   "source": []
  }
 ],
 "metadata": {
  "colab": {
   "collapsed_sections": [],
   "name": "Untitled7.ipynb",
   "provenance": []
  },
  "kernelspec": {
   "display_name": "Python 3",
   "language": "python",
   "name": "python3"
  },
  "language_info": {
   "codemirror_mode": {
    "name": "ipython",
    "version": 3
   },
   "file_extension": ".py",
   "mimetype": "text/x-python",
   "name": "python",
   "nbconvert_exporter": "python",
   "pygments_lexer": "ipython3",
   "version": "3.7.4"
  }
 },
 "nbformat": 4,
 "nbformat_minor": 1
}
