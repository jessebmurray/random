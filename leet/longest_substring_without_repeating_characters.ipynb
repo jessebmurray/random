{
 "cells": [
  {
   "cell_type": "code",
   "execution_count": null,
   "metadata": {},
   "outputs": [],
   "source": []
  },
  {
   "cell_type": "code",
   "execution_count": null,
   "metadata": {},
   "outputs": [],
   "source": []
  },
  {
   "cell_type": "code",
   "execution_count": 2,
   "metadata": {},
   "outputs": [],
   "source": [
    "def lengthOfLongestSubstring(s: str) -> int:\n",
    "    return True"
   ]
  },
  {
   "cell_type": "code",
   "execution_count": null,
   "metadata": {},
   "outputs": [],
   "source": []
  },
  {
   "cell_type": "code",
   "execution_count": null,
   "metadata": {},
   "outputs": [],
   "source": []
  },
  {
   "cell_type": "code",
   "execution_count": null,
   "metadata": {},
   "outputs": [],
   "source": []
  },
  {
   "cell_type": "markdown",
   "metadata": {},
   "source": [
    "Have a pointer go through the array and store the letters it reads. When it comes across a repeating letter, it doesn't store that. \n",
    "\n",
    "At that point, instead of storing the letters it read, it simply stores the length of the letters. Then, it 'forgets' the letters and starts from step one. This reading through is O(N)\n",
    "\n",
    "At the end, we have the lengths of the strings in memory. We want to choose the pair with the biggest length. \n",
    "\n",
    "We could store the lengths in a max heap, but insertion is O(log(N)), and we would need to insert some factor of N times. Even with O(1) lookup of the max, that algorithm would be O(N log(N)).\n",
    "\n",
    "A simpler solution would be the store the lengths as we get them, in (random) order. Then, we iterate through and get the maximum, which is just O(N).\n",
    "\n",
    "In total, we have O(N + N), which is O(N) runtime. \n",
    "\n",
    "Space complexity is also O(N) but it is a small factor of N because we're not storing the arrays, just their length."
   ]
  },
  {
   "cell_type": "markdown",
   "metadata": {},
   "source": [
    "Once we reach a repeated letter, any string between that letter and its earlier repeat is necessarily shorter than the string we found, so we only need to store the length so far. \n",
    "\n",
    "We start the new string with that letter. "
   ]
  },
  {
   "cell_type": "markdown",
   "metadata": {},
   "source": [
    "For checking if a letter is in the current string, this is O(N) lookup time, but it's O(1) lookup time if we store the letters in a hash table."
   ]
  },
  {
   "cell_type": "code",
   "execution_count": 21,
   "metadata": {},
   "outputs": [],
   "source": [
    "a = dict()\n",
    "a['c'] = None"
   ]
  },
  {
   "cell_type": "code",
   "execution_count": 23,
   "metadata": {},
   "outputs": [
    {
     "data": {
      "text/plain": [
       "True"
      ]
     },
     "execution_count": 23,
     "metadata": {},
     "output_type": "execute_result"
    }
   ],
   "source": [
    "'c' in a"
   ]
  },
  {
   "cell_type": "code",
   "execution_count": 24,
   "metadata": {},
   "outputs": [
    {
     "data": {
      "text/plain": [
       "False"
      ]
     },
     "execution_count": 24,
     "metadata": {},
     "output_type": "execute_result"
    }
   ],
   "source": [
    "'d' in a"
   ]
  },
  {
   "cell_type": "code",
   "execution_count": 20,
   "metadata": {},
   "outputs": [
    {
     "data": {
      "text/plain": [
       "NoneType"
      ]
     },
     "execution_count": 20,
     "metadata": {},
     "output_type": "execute_result"
    }
   ],
   "source": [
    "type(a['c'])"
   ]
  },
  {
   "cell_type": "code",
   "execution_count": 19,
   "metadata": {},
   "outputs": [
    {
     "data": {
      "text/plain": [
       "{'c': None}"
      ]
     },
     "execution_count": 19,
     "metadata": {},
     "output_type": "execute_result"
    }
   ],
   "source": [
    "a"
   ]
  },
  {
   "cell_type": "code",
   "execution_count": 12,
   "metadata": {},
   "outputs": [],
   "source": [
    "a.get('a')"
   ]
  },
  {
   "cell_type": "code",
   "execution_count": null,
   "metadata": {},
   "outputs": [],
   "source": []
  },
  {
   "cell_type": "markdown",
   "metadata": {},
   "source": [
    "We need two pointers in the string. When the front one encounters a repeat, we move the back one up to one past the earlier instance of that (repeated) letter. "
   ]
  },
  {
   "cell_type": "code",
   "execution_count": 57,
   "metadata": {},
   "outputs": [],
   "source": [
    "def lengthOfLongestSubstring(s: str) -> int:\n",
    "    if s == '':\n",
    "        return 0\n",
    "    \n",
    "    current_string = dict()  # the current longest? string without repeat chars\n",
    "    current_len = 0  # the length of the current_string\n",
    "    lens = list()  # the lengths of the strings (we want the max)\n",
    "    \n",
    "    # Iterate through string and find lengths of non-repeats\n",
    "    for i in range(len(s)):\n",
    "        letter = s[i]\n",
    "        print(letter)\n",
    "        if letter not in current_string:\n",
    "            current_len += 1\n",
    "            current_string[letter] = None\n",
    "            \n",
    "            if i == len(s) - 1:\n",
    "                lens.append(current_len)\n",
    "                \n",
    "        elif letter in current_string:  # repeat letter\n",
    "            lens.append(current_len)  # add length to list of lengths\n",
    "            # reset ~~~~~~~~~~~\n",
    "            current_string = dict()\n",
    "            current_string[letter] = None\n",
    "            current_len = 1\n",
    "            # reset ~~~~~~~~~~~\n",
    "        \n",
    "    print(lens)\n",
    "    return max(lens)"
   ]
  },
  {
   "cell_type": "code",
   "execution_count": null,
   "metadata": {},
   "outputs": [],
   "source": []
  },
  {
   "cell_type": "code",
   "execution_count": 85,
   "metadata": {},
   "outputs": [],
   "source": [
    "def lengthOfLongestSubstring(s: str) -> int:\n",
    "    if len(s) == 0:\n",
    "        return 0\n",
    "    elif len(s) == 1:\n",
    "        return 1\n",
    "    \n",
    "    current_string = dict()  # the current longest? string without repeat chars\n",
    "    lens = list()  # the lengths of the strings (we want the max)\n",
    "    end_index = len(s) - 1  \n",
    "    back_idx = 0\n",
    "    \n",
    "    for i in range(len(s)):\n",
    "\n",
    "        letter = s[i]\n",
    "\n",
    "        if letter not in current_string:\n",
    "\n",
    "            current_string[letter] = None\n",
    "            \n",
    "            if i == end_index:  # if at the end of the string, return current\n",
    "                lens.append(len(current_string))\n",
    "                \n",
    "        elif letter in current_string:  # repeat letter\n",
    "            lens.append(len(current_string)) # add current length to list of lengths\n",
    "\n",
    "            # move the back_idx so that it points to one past the earlier repeat\n",
    "            past_repeat = False\n",
    "            while not past_repeat:\n",
    "                if s[back_idx] == letter:  # check if back_idx is at the earlier repeat\n",
    "                    back_idx += 1\n",
    "                    past_repeat = True\n",
    "                else:\n",
    "                    del current_string[s[back_idx]] \n",
    "                    back_idx += 1\n",
    "        \n",
    "    return max(lens)\n"
   ]
  },
  {
   "cell_type": "code",
   "execution_count": 88,
   "metadata": {},
   "outputs": [
    {
     "data": {
      "text/plain": [
       "3"
      ]
     },
     "execution_count": 88,
     "metadata": {},
     "output_type": "execute_result"
    }
   ],
   "source": [
    "lengthOfLongestSubstring('dvdfda')"
   ]
  },
  {
   "cell_type": "code",
   "execution_count": 63,
   "metadata": {},
   "outputs": [
    {
     "data": {
      "text/plain": [
       "{'c': None}"
      ]
     },
     "execution_count": 63,
     "metadata": {},
     "output_type": "execute_result"
    }
   ],
   "source": [
    "a"
   ]
  },
  {
   "cell_type": "code",
   "execution_count": 64,
   "metadata": {},
   "outputs": [],
   "source": [
    "del a['c']"
   ]
  },
  {
   "cell_type": "code",
   "execution_count": 65,
   "metadata": {},
   "outputs": [
    {
     "data": {
      "text/plain": [
       "{}"
      ]
     },
     "execution_count": 65,
     "metadata": {},
     "output_type": "execute_result"
    }
   ],
   "source": [
    "a"
   ]
  },
  {
   "cell_type": "code",
   "execution_count": null,
   "metadata": {},
   "outputs": [],
   "source": []
  }
 ],
 "metadata": {
  "kernelspec": {
   "display_name": "Python 3",
   "language": "python",
   "name": "python3"
  },
  "language_info": {
   "codemirror_mode": {
    "name": "ipython",
    "version": 3
   },
   "file_extension": ".py",
   "mimetype": "text/x-python",
   "name": "python",
   "nbconvert_exporter": "python",
   "pygments_lexer": "ipython3",
   "version": "3.7.4"
  }
 },
 "nbformat": 4,
 "nbformat_minor": 2
}
