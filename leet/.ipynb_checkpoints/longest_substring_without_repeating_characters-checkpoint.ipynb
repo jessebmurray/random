{
 "cells": [
  {
   "cell_type": "code",
   "execution_count": null,
   "metadata": {},
   "outputs": [],
   "source": []
  },
  {
   "cell_type": "code",
   "execution_count": null,
   "metadata": {},
   "outputs": [],
   "source": []
  },
  {
   "cell_type": "code",
   "execution_count": 2,
   "metadata": {},
   "outputs": [],
   "source": [
    "def lengthOfLongestSubstring(s: str) -> int:\n",
    "    return True"
   ]
  },
  {
   "cell_type": "code",
   "execution_count": null,
   "metadata": {},
   "outputs": [],
   "source": []
  },
  {
   "cell_type": "code",
   "execution_count": null,
   "metadata": {},
   "outputs": [],
   "source": []
  },
  {
   "cell_type": "code",
   "execution_count": null,
   "metadata": {},
   "outputs": [],
   "source": []
  },
  {
   "cell_type": "markdown",
   "metadata": {},
   "source": [
    "Have a pointer go through the array and store the letters it reads. When it comes across a repeating letter, it doesn't store that. \n",
    "\n",
    "At that point, instead of storing the letters it read, it simply stores the length of the letters. Then, it 'forgets' the letters and starts from step one. This reading through is O(N)\n",
    "\n",
    "At the end, we have the lengths of the strings in memory. We want to choose the pair with the biggest length. \n",
    "\n",
    "We could store the lengths in a max heap, but insertion is O(log(N)), and we would need to insert some factor of N times. Even with O(1) lookup of the max, that algorithm would be O(N log(N)).\n",
    "\n",
    "A simpler solution would be the store the lengths as we get them, in (random) order. Then, we iterate through and get the maximum, which is just O(N).\n",
    "\n",
    "In total, we have O(N + N), which is O(N) runtime. \n",
    "\n",
    "Space complexity is also O(N) but it is a small factor of N because we're not storing the arrays, just their length."
   ]
  },
  {
   "cell_type": "markdown",
   "metadata": {},
   "source": [
    "Once we reach a repeated letter, any string between that letter and its earlier repeat is necessarily shorter than the string we found, so we only need to store the length so far. \n",
    "\n",
    "We start the new string with that letter. "
   ]
  },
  {
   "cell_type": "markdown",
   "metadata": {},
   "source": [
    "For checking if a letter is in the current string, this is O(N) lookup time, but it's O(1) lookup time if we store the letters in a hash table."
   ]
  },
  {
   "cell_type": "code",
   "execution_count": null,
   "metadata": {},
   "outputs": [],
   "source": []
  },
  {
   "cell_type": "markdown",
   "metadata": {},
   "source": [
    "We need two pointers in the string. When the front one encounters a repeat, we move the back one up to one past the earlier instance of that (repeated) letter. "
   ]
  },
  {
   "cell_type": "code",
   "execution_count": 57,
   "metadata": {},
   "outputs": [],
   "source": [
    "def lengthOfLongestSubstring(s: str) -> int:\n",
    "    if s == '':\n",
    "        return 0\n",
    "    \n",
    "    current_string = dict()  # the current longest? string without repeat chars\n",
    "    current_len = 0  # the length of the current_string\n",
    "    lens = list()  # the lengths of the strings (we want the max)\n",
    "    \n",
    "    # Iterate through string and find lengths of non-repeats\n",
    "    for i in range(len(s)):\n",
    "        letter = s[i]\n",
    "        print(letter)\n",
    "        if letter not in current_string:\n",
    "            current_len += 1\n",
    "            current_string[letter] = None\n",
    "            \n",
    "            if i == len(s) - 1:\n",
    "                lens.append(current_len)\n",
    "                \n",
    "        elif letter in current_string:  # repeat letter\n",
    "            lens.append(current_len)  # add length to list of lengths\n",
    "            # reset ~~~~~~~~~~~\n",
    "            current_string = dict()\n",
    "            current_string[letter] = None\n",
    "            current_len = 1\n",
    "            # reset ~~~~~~~~~~~\n",
    "        \n",
    "    print(lens)\n",
    "    return max(lens)"
   ]
  },
  {
   "cell_type": "code",
   "execution_count": null,
   "metadata": {},
   "outputs": [],
   "source": []
  },
  {
   "cell_type": "code",
   "execution_count": 85,
   "metadata": {},
   "outputs": [],
   "source": [
    "def lengthOfLongestSubstring(s: str) -> int:\n",
    "    if len(s) == 0:\n",
    "        return 0\n",
    "    elif len(s) == 1:\n",
    "        return 1\n",
    "    \n",
    "    current_string = dict()  # the current longest? string without repeat chars\n",
    "    lens = list()  # the lengths of the strings (we want the max)\n",
    "    end_index = len(s) - 1  \n",
    "    back_idx = 0\n",
    "    \n",
    "    for i in range(len(s)):\n",
    "\n",
    "        letter = s[i]\n",
    "\n",
    "        if letter not in current_string:\n",
    "\n",
    "            current_string[letter] = None\n",
    "            \n",
    "            if i == end_index:  # if at the end of the string, return current\n",
    "                lens.append(len(current_string))\n",
    "                \n",
    "        elif letter in current_string:  # repeat letter\n",
    "            lens.append(len(current_string)) # add current length to list of lengths\n",
    "\n",
    "            # move the back_idx so that it points to one past the earlier repeat\n",
    "            past_repeat = False\n",
    "            while not past_repeat:\n",
    "                if s[back_idx] == letter:  # check if back_idx is at the earlier repeat\n",
    "                    back_idx += 1\n",
    "                    past_repeat = True\n",
    "                else:\n",
    "                    del current_string[s[back_idx]] \n",
    "                    back_idx += 1\n",
    "        \n",
    "    return max(lens)\n"
   ]
  },
  {
   "cell_type": "code",
   "execution_count": 88,
   "metadata": {},
   "outputs": [
    {
     "data": {
      "text/plain": [
       "3"
      ]
     },
     "execution_count": 88,
     "metadata": {},
     "output_type": "execute_result"
    }
   ],
   "source": [
    "lengthOfLongestSubstring('dvdfda')"
   ]
  },
  {
   "cell_type": "code",
   "execution_count": 19,
   "metadata": {},
   "outputs": [],
   "source": [
    "def lengthOfLongestSubstring(s):\n",
    "    \"\"\"\n",
    "    :type s: str\n",
    "    :rtype: int\n",
    "    \"\"\"\n",
    "    \n",
    "    str_list = []\n",
    "    max_length = 0\n",
    "    \n",
    "    for x in s:\n",
    "        if x in str_list:\n",
    "            str_list = str_list[str_list.index(x)+1:]\n",
    "        \n",
    "        str_list.append(x)    \n",
    "        print(str_list)\n",
    "        print(len(str_list))\n",
    "        print()\n",
    "        max_length = max(max_length, len(str_list))\n",
    "        \n",
    "    return max_length"
   ]
  },
  {
   "cell_type": "code",
   "execution_count": 20,
   "metadata": {},
   "outputs": [
    {
     "name": "stdout",
     "output_type": "stream",
     "text": [
      "['d']\n",
      "1\n",
      "\n",
      "['d', 'v']\n",
      "2\n",
      "\n",
      "['v', 'd']\n",
      "2\n",
      "\n",
      "['v', 'd', 'f']\n",
      "3\n",
      "\n",
      "['f', 'd']\n",
      "2\n",
      "\n",
      "['f', 'd', 'a']\n",
      "3\n",
      "\n"
     ]
    },
    {
     "data": {
      "text/plain": [
       "3"
      ]
     },
     "execution_count": 20,
     "metadata": {},
     "output_type": "execute_result"
    }
   ],
   "source": [
    "lengthOfLongestSubstring('dvdfda')"
   ]
  },
  {
   "cell_type": "code",
   "execution_count": 89,
   "metadata": {},
   "outputs": [],
   "source": [
    "class Solution:\n",
    "    def lengthOfLongestSubstring(self, s):\n",
    "        dicts = {}\n",
    "        maxlength = start = 0\n",
    "        for i, value in enumerate(s):\n",
    "            if value in dicts:\n",
    "                sums = dicts[value] + 1\n",
    "                if sums > start:\n",
    "                    start = sums\n",
    "                    \n",
    "            num = i - start + 1\n",
    "            \n",
    "            if num > maxlength:\n",
    "                maxlength = num\n",
    "                \n",
    "            dicts[value] = i\n",
    "            \n",
    "        return maxlength"
   ]
  },
  {
   "cell_type": "code",
   "execution_count": 90,
   "metadata": {},
   "outputs": [
    {
     "data": {
      "text/plain": [
       "4"
      ]
     },
     "execution_count": 90,
     "metadata": {},
     "output_type": "execute_result"
    }
   ],
   "source": [
    "Solution.lengthOfLongestSubstring(Solution, 'adfdfbc')"
   ]
  },
  {
   "cell_type": "code",
   "execution_count": 84,
   "metadata": {},
   "outputs": [
    {
     "name": "stdout",
     "output_type": "stream",
     "text": [
      "0 a\n",
      "1 d\n",
      "2 f\n",
      "3 d\n",
      "4 f\n"
     ]
    }
   ],
   "source": [
    "for i, value in enumerate('adfdf'):\n",
    "    print(i, value)"
   ]
  },
  {
   "cell_type": "code",
   "execution_count": null,
   "metadata": {},
   "outputs": [],
   "source": []
  }
 ],
 "metadata": {
  "kernelspec": {
   "display_name": "Python 3",
   "language": "python",
   "name": "python3"
  },
  "language_info": {
   "codemirror_mode": {
    "name": "ipython",
    "version": 3
   },
   "file_extension": ".py",
   "mimetype": "text/x-python",
   "name": "python",
   "nbconvert_exporter": "python",
   "pygments_lexer": "ipython3",
   "version": "3.7.4"
  }
 },
 "nbformat": 4,
 "nbformat_minor": 2
}
